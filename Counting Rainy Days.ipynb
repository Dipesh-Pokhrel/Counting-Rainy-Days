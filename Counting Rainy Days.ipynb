{
 "cells": [
  {
   "cell_type": "raw",
   "id": "91fec43a",
   "metadata": {},
   "source": [
    "Let's do some analysis on daily rainfall statistics of Seattle in 2014"
   ]
  },
  {
   "cell_type": "code",
   "execution_count": 1,
   "id": "d1e4dc1e",
   "metadata": {},
   "outputs": [],
   "source": [
    "# importing libraries\n",
    "import numpy as np\n",
    "import pandas as pd"
   ]
  },
  {
   "cell_type": "code",
   "execution_count": 2,
   "id": "31c1cc49",
   "metadata": {},
   "outputs": [],
   "source": [
    "data = pd.read_csv(\"Seattle2014.csv\")"
   ]
  },
  {
   "cell_type": "code",
   "execution_count": 3,
   "id": "ad78372d",
   "metadata": {},
   "outputs": [
    {
     "data": {
      "text/html": [
       "<div>\n",
       "<style scoped>\n",
       "    .dataframe tbody tr th:only-of-type {\n",
       "        vertical-align: middle;\n",
       "    }\n",
       "\n",
       "    .dataframe tbody tr th {\n",
       "        vertical-align: top;\n",
       "    }\n",
       "\n",
       "    .dataframe thead th {\n",
       "        text-align: right;\n",
       "    }\n",
       "</style>\n",
       "<table border=\"1\" class=\"dataframe\">\n",
       "  <thead>\n",
       "    <tr style=\"text-align: right;\">\n",
       "      <th></th>\n",
       "      <th>STATION</th>\n",
       "      <th>STATION_NAME</th>\n",
       "      <th>DATE</th>\n",
       "      <th>PRCP</th>\n",
       "      <th>SNWD</th>\n",
       "      <th>SNOW</th>\n",
       "      <th>TMAX</th>\n",
       "      <th>TMIN</th>\n",
       "      <th>AWND</th>\n",
       "      <th>WDF2</th>\n",
       "      <th>WDF5</th>\n",
       "      <th>WSF2</th>\n",
       "      <th>WSF5</th>\n",
       "      <th>WT01</th>\n",
       "      <th>WT05</th>\n",
       "      <th>WT02</th>\n",
       "      <th>WT03</th>\n",
       "    </tr>\n",
       "  </thead>\n",
       "  <tbody>\n",
       "    <tr>\n",
       "      <th>0</th>\n",
       "      <td>GHCND:USW00024233</td>\n",
       "      <td>SEATTLE TACOMA INTERNATIONAL AIRPORT WA US</td>\n",
       "      <td>20140101</td>\n",
       "      <td>0</td>\n",
       "      <td>0</td>\n",
       "      <td>0</td>\n",
       "      <td>72</td>\n",
       "      <td>33</td>\n",
       "      <td>12</td>\n",
       "      <td>340</td>\n",
       "      <td>310</td>\n",
       "      <td>36</td>\n",
       "      <td>40</td>\n",
       "      <td>-9999</td>\n",
       "      <td>-9999</td>\n",
       "      <td>-9999</td>\n",
       "      <td>-9999</td>\n",
       "    </tr>\n",
       "    <tr>\n",
       "      <th>1</th>\n",
       "      <td>GHCND:USW00024233</td>\n",
       "      <td>SEATTLE TACOMA INTERNATIONAL AIRPORT WA US</td>\n",
       "      <td>20140102</td>\n",
       "      <td>41</td>\n",
       "      <td>0</td>\n",
       "      <td>0</td>\n",
       "      <td>106</td>\n",
       "      <td>61</td>\n",
       "      <td>32</td>\n",
       "      <td>190</td>\n",
       "      <td>200</td>\n",
       "      <td>94</td>\n",
       "      <td>116</td>\n",
       "      <td>-9999</td>\n",
       "      <td>-9999</td>\n",
       "      <td>-9999</td>\n",
       "      <td>-9999</td>\n",
       "    </tr>\n",
       "    <tr>\n",
       "      <th>2</th>\n",
       "      <td>GHCND:USW00024233</td>\n",
       "      <td>SEATTLE TACOMA INTERNATIONAL AIRPORT WA US</td>\n",
       "      <td>20140103</td>\n",
       "      <td>15</td>\n",
       "      <td>0</td>\n",
       "      <td>0</td>\n",
       "      <td>89</td>\n",
       "      <td>28</td>\n",
       "      <td>26</td>\n",
       "      <td>30</td>\n",
       "      <td>50</td>\n",
       "      <td>63</td>\n",
       "      <td>72</td>\n",
       "      <td>1</td>\n",
       "      <td>-9999</td>\n",
       "      <td>-9999</td>\n",
       "      <td>-9999</td>\n",
       "    </tr>\n",
       "    <tr>\n",
       "      <th>3</th>\n",
       "      <td>GHCND:USW00024233</td>\n",
       "      <td>SEATTLE TACOMA INTERNATIONAL AIRPORT WA US</td>\n",
       "      <td>20140104</td>\n",
       "      <td>0</td>\n",
       "      <td>0</td>\n",
       "      <td>0</td>\n",
       "      <td>78</td>\n",
       "      <td>6</td>\n",
       "      <td>27</td>\n",
       "      <td>40</td>\n",
       "      <td>40</td>\n",
       "      <td>45</td>\n",
       "      <td>58</td>\n",
       "      <td>1</td>\n",
       "      <td>-9999</td>\n",
       "      <td>-9999</td>\n",
       "      <td>-9999</td>\n",
       "    </tr>\n",
       "    <tr>\n",
       "      <th>4</th>\n",
       "      <td>GHCND:USW00024233</td>\n",
       "      <td>SEATTLE TACOMA INTERNATIONAL AIRPORT WA US</td>\n",
       "      <td>20140105</td>\n",
       "      <td>0</td>\n",
       "      <td>0</td>\n",
       "      <td>0</td>\n",
       "      <td>83</td>\n",
       "      <td>-5</td>\n",
       "      <td>37</td>\n",
       "      <td>10</td>\n",
       "      <td>10</td>\n",
       "      <td>67</td>\n",
       "      <td>76</td>\n",
       "      <td>-9999</td>\n",
       "      <td>-9999</td>\n",
       "      <td>-9999</td>\n",
       "      <td>-9999</td>\n",
       "    </tr>\n",
       "  </tbody>\n",
       "</table>\n",
       "</div>"
      ],
      "text/plain": [
       "             STATION                                STATION_NAME      DATE  \\\n",
       "0  GHCND:USW00024233  SEATTLE TACOMA INTERNATIONAL AIRPORT WA US  20140101   \n",
       "1  GHCND:USW00024233  SEATTLE TACOMA INTERNATIONAL AIRPORT WA US  20140102   \n",
       "2  GHCND:USW00024233  SEATTLE TACOMA INTERNATIONAL AIRPORT WA US  20140103   \n",
       "3  GHCND:USW00024233  SEATTLE TACOMA INTERNATIONAL AIRPORT WA US  20140104   \n",
       "4  GHCND:USW00024233  SEATTLE TACOMA INTERNATIONAL AIRPORT WA US  20140105   \n",
       "\n",
       "   PRCP  SNWD  SNOW  TMAX  TMIN  AWND  WDF2  WDF5  WSF2  WSF5  WT01  WT05  \\\n",
       "0     0     0     0    72    33    12   340   310    36    40 -9999 -9999   \n",
       "1    41     0     0   106    61    32   190   200    94   116 -9999 -9999   \n",
       "2    15     0     0    89    28    26    30    50    63    72     1 -9999   \n",
       "3     0     0     0    78     6    27    40    40    45    58     1 -9999   \n",
       "4     0     0     0    83    -5    37    10    10    67    76 -9999 -9999   \n",
       "\n",
       "   WT02  WT03  \n",
       "0 -9999 -9999  \n",
       "1 -9999 -9999  \n",
       "2 -9999 -9999  \n",
       "3 -9999 -9999  \n",
       "4 -9999 -9999  "
      ]
     },
     "execution_count": 3,
     "metadata": {},
     "output_type": "execute_result"
    }
   ],
   "source": [
    "data.head()"
   ]
  },
  {
   "cell_type": "code",
   "execution_count": 4,
   "id": "d3bdfd85",
   "metadata": {},
   "outputs": [
    {
     "data": {
      "text/plain": [
       "(365, 17)"
      ]
     },
     "execution_count": 4,
     "metadata": {},
     "output_type": "execute_result"
    }
   ],
   "source": [
    "data.shape"
   ]
  },
  {
   "cell_type": "code",
   "execution_count": 5,
   "id": "f0948e9c",
   "metadata": {},
   "outputs": [
    {
     "data": {
      "text/plain": [
       "Index(['STATION', 'STATION_NAME', 'DATE', 'PRCP', 'SNWD', 'SNOW', 'TMAX',\n",
       "       'TMIN', 'AWND', 'WDF2', 'WDF5', 'WSF2', 'WSF5', 'WT01', 'WT05', 'WT02',\n",
       "       'WT03'],\n",
       "      dtype='object')"
      ]
     },
     "execution_count": 5,
     "metadata": {},
     "output_type": "execute_result"
    }
   ],
   "source": [
    "data.columns"
   ]
  },
  {
   "cell_type": "code",
   "execution_count": 6,
   "id": "137d509f",
   "metadata": {},
   "outputs": [],
   "source": [
    "rainfall = data[\"PRCP\"]"
   ]
  },
  {
   "cell_type": "code",
   "execution_count": 7,
   "id": "1f26a3ac",
   "metadata": {},
   "outputs": [
    {
     "data": {
      "text/plain": [
       "0     0\n",
       "1    41\n",
       "2    15\n",
       "3     0\n",
       "4     0\n",
       "Name: PRCP, dtype: int64"
      ]
     },
     "execution_count": 7,
     "metadata": {},
     "output_type": "execute_result"
    }
   ],
   "source": [
    "rainfall.head()"
   ]
  },
  {
   "cell_type": "code",
   "execution_count": 8,
   "id": "f7318147",
   "metadata": {},
   "outputs": [
    {
     "data": {
      "text/plain": [
       "array([  0,  41,  15,   0,   0,   3, 122,  97,  58,  43, 213,  15,   0,\n",
       "         0,   0,   0,   0,   0,   0,   0,   0,   5,   0,   0,   0,   0,\n",
       "         0,  89, 216,   0,  23,  20,   0,   0,   0,   0,   0,   0,  51,\n",
       "         5, 183, 170,  46,  18,  94, 117, 264, 145, 152,  10,  30,  28,\n",
       "        25,  61, 130,   3,   0,   0,   0,   5, 191, 107, 165, 467,  30,\n",
       "         0, 323,  43, 188,   0,   0,   5,  69,  81, 277,   3,   0,   5,\n",
       "         0,   0,   0,   0,   0,  41,  36,   3, 221, 140,   0,   0,   0,\n",
       "         0,  25,   0,  46,   0,   0,  46,   0,   0,   0,   0,   0,   0,\n",
       "         5, 109, 185,   0, 137,   0,  51, 142,  89, 124,   0,  33,  69,\n",
       "         0,   0,   0,   0,   0, 333, 160,  51,   0,   0, 137,  20,   5,\n",
       "         0,   0,   0,   0,   0,   0,   0,   0,   0,   0,   0,   0,  38,\n",
       "         0,  56,   0,   0,   0,   0,   0,   0,   0,   0,   0,   0,   0,\n",
       "         0,   0,   0,   0,   0,   0,  18,  64,   0,   5,  36,  13,   0,\n",
       "         8,   3,   0,   0,   0,   0,   0,   0,  18,  23,   0,   0,   0,\n",
       "         0,   0,   0,   0,   0,   0,   0,   0,   0,   0,   0,   0,   0,\n",
       "         0,   0,   0,   0,   0,   0,   0,   3, 193,   0,   0,   0,   0,\n",
       "         0,   0,   0,   0,   0,   5,   0,   0,   0,   0,   0,   0,   0,\n",
       "         0,   5, 127, 216,   0,  10,   0,   0,   0,   0,   0,   0,   0,\n",
       "         0,   0,   0,   0,   0,   0,   0,  84,  13,   0,  30,   0,   0,\n",
       "         0,   0,   0,   0,   0,   0,   0,   0,   0,   0,   0,   0,   5,\n",
       "         3,   0,   0,   0,   3, 183, 203,  43,  89,   0,   0,   8,   0,\n",
       "         0,   0,   0,   0,   0,   0,   0,   0,   0,   3,  74,   0,  76,\n",
       "        71,  86,   0,  33, 150,   0, 117,  10, 320,  94,  41,  61,  15,\n",
       "         8, 127,   5, 254, 170,   0,  18, 109,  41,  48,  41,   0,   0,\n",
       "        51,   0,   0,   0,   0,   0,   0,   0,   0,   0,   0,  36, 152,\n",
       "         5, 119,  13, 183,   3,  33, 343,  36,   0,   0,   0,   0,   8,\n",
       "        30,  74,   0,  91,  99, 130,  69,   0,   0,   0,   0,   0,  28,\n",
       "       130,  30, 196,   0,   0, 206,  53,   0,   0,  33,  41,   0,   0,\n",
       "         0], dtype=int64)"
      ]
     },
     "execution_count": 8,
     "metadata": {},
     "output_type": "execute_result"
    }
   ],
   "source": [
    "rainfall.values"
   ]
  },
  {
   "cell_type": "code",
   "execution_count": 9,
   "id": "6dff86c4",
   "metadata": {},
   "outputs": [
    {
     "data": {
      "text/plain": [
       "(365,)"
      ]
     },
     "execution_count": 9,
     "metadata": {},
     "output_type": "execute_result"
    }
   ],
   "source": [
    "rainfall.values.shape"
   ]
  },
  {
   "cell_type": "code",
   "execution_count": 10,
   "id": "0a419c80",
   "metadata": {},
   "outputs": [],
   "source": [
    "inches = rainfall/254 # convreting 1/mm => inches (1 inches = 25.4mm)"
   ]
  },
  {
   "cell_type": "code",
   "execution_count": 11,
   "id": "91ed65a0",
   "metadata": {},
   "outputs": [
    {
     "data": {
      "text/plain": [
       "0    0.000000\n",
       "1    0.161417\n",
       "2    0.059055\n",
       "3    0.000000\n",
       "4    0.000000\n",
       "5    0.011811\n",
       "6    0.480315\n",
       "7    0.381890\n",
       "8    0.228346\n",
       "9    0.169291\n",
       "Name: PRCP, dtype: float64"
      ]
     },
     "execution_count": 11,
     "metadata": {},
     "output_type": "execute_result"
    }
   ],
   "source": [
    "inches[:10]"
   ]
  },
  {
   "cell_type": "raw",
   "id": "e98a68a9",
   "metadata": {},
   "source": [
    "lets create a histogram plot of the rainfall data."
   ]
  },
  {
   "cell_type": "code",
   "execution_count": 12,
   "id": "c2102d5c",
   "metadata": {},
   "outputs": [
    {
     "data": {
      "image/png": "[encoded data removed]",
      "text/plain": [
       "<Figure size 432x288 with 1 Axes>"
      ]
     },
     "metadata": {},
     "output_type": "display_data"
    }
   ],
   "source": [
    "%matplotlib inline\n",
    "import matplotlib.pyplot as plt\n",
    "import seaborn; seaborn.set() # set plot styles\n",
    "plt.hist(inches, bins = 30); # beans defines the equal width bins in the range"
   ]
  },
  {
   "cell_type": "raw",
   "id": "5a7c4d15",
   "metadata": {},
   "source": [
    "The above histogram shows that there was no rain (tallest near 0) for most of the days in 2014."
   ]
  },
  {
   "cell_type": "raw",
   "id": "d1a573a7",
   "metadata": {},
   "source": [
    "Number of days that had rainfall between 0.5 and 1.0 inches."
   ]
  },
  {
   "cell_type": "code",
   "execution_count": 13,
   "id": "82f69c9e",
   "metadata": {},
   "outputs": [
    {
     "data": {
      "text/plain": [
       "32"
      ]
     },
     "execution_count": 13,
     "metadata": {},
     "output_type": "execute_result"
    }
   ],
   "source": [
    "np.sum((inches >= 0.5 )&(inches <= 1.0))"
   ]
  },
  {
   "cell_type": "code",
   "execution_count": 14,
   "id": "c1cd29e8",
   "metadata": {},
   "outputs": [
    {
     "data": {
      "text/plain": [
       "10     0.838583\n",
       "28     0.850394\n",
       "40     0.720472\n",
       "41     0.669291\n",
       "47     0.570866\n",
       "48     0.598425\n",
       "54     0.511811\n",
       "60     0.751969\n",
       "62     0.649606\n",
       "68     0.740157\n",
       "86     0.870079\n",
       "87     0.551181\n",
       "106    0.728346\n",
       "108    0.539370\n",
       "111    0.559055\n",
       "123    0.629921\n",
       "127    0.539370\n",
       "203    0.759843\n",
       "223    0.500000\n",
       "224    0.850394\n",
       "265    0.720472\n",
       "266    0.799213\n",
       "290    0.590551\n",
       "300    0.500000\n",
       "302    1.000000\n",
       "303    0.669291\n",
       "324    0.598425\n",
       "328    0.720472\n",
       "343    0.511811\n",
       "351    0.511811\n",
       "353    0.771654\n",
       "356    0.811024\n",
       "Name: PRCP, dtype: float64"
      ]
     },
     "execution_count": 14,
     "metadata": {},
     "output_type": "execute_result"
    }
   ],
   "source": [
    "inches[(inches >= 0.5 )&(inches <= 1.0)]"
   ]
  },
  {
   "cell_type": "code",
   "execution_count": 15,
   "id": "1ffac78b",
   "metadata": {},
   "outputs": [
    {
     "data": {
      "text/plain": [
       "32"
      ]
     },
     "execution_count": 15,
     "metadata": {},
     "output_type": "execute_result"
    }
   ],
   "source": [
    "len(inches[(inches >= 0.5 )&(inches <= 1.0)])"
   ]
  },
  {
   "cell_type": "code",
   "execution_count": 16,
   "id": "1f467ca1",
   "metadata": {},
   "outputs": [
    {
     "data": {
      "text/plain": [
       "215"
      ]
     },
     "execution_count": 16,
     "metadata": {},
     "output_type": "execute_result"
    }
   ],
   "source": [
    "np.sum(inches == 0) # Num of days without rain"
   ]
  },
  {
   "cell_type": "code",
   "execution_count": 17,
   "id": "f1615341",
   "metadata": {},
   "outputs": [
    {
     "data": {
      "text/plain": [
       "150"
      ]
     },
     "execution_count": 17,
     "metadata": {},
     "output_type": "execute_result"
    }
   ],
   "source": [
    "np.sum(inches != 0) # Num of days with rain"
   ]
  },
  {
   "cell_type": "code",
   "execution_count": 18,
   "id": "26ae5800",
   "metadata": {},
   "outputs": [
    {
     "data": {
      "text/plain": [
       "37"
      ]
     },
     "execution_count": 18,
     "metadata": {},
     "output_type": "execute_result"
    }
   ],
   "source": [
    "np.sum(inches > 0.5) # Num of days with rain more than 0.5 inches"
   ]
  },
  {
   "cell_type": "markdown",
   "id": "b8ffeea8",
   "metadata": {},
   "source": [
    "#### Uses of Boolean Masks:"
   ]
  },
  {
   "cell_type": "code",
   "execution_count": 19,
   "id": "a3d2b3eb",
   "metadata": {},
   "outputs": [],
   "source": [
    "rainy = (inches != 0)"
   ]
  },
  {
   "cell_type": "code",
   "execution_count": 20,
   "id": "ec422e19",
   "metadata": {},
   "outputs": [
    {
     "data": {
      "text/plain": [
       "0      False\n",
       "1       True\n",
       "2       True\n",
       "3      False\n",
       "4      False\n",
       "       ...  \n",
       "360     True\n",
       "361     True\n",
       "362    False\n",
       "363    False\n",
       "364    False\n",
       "Name: PRCP, Length: 365, dtype: bool"
      ]
     },
     "execution_count": 20,
     "metadata": {},
     "output_type": "execute_result"
    }
   ],
   "source": [
    "rainy # rainy is the boolean mask and it mask out rainy day."
   ]
  },
  {
   "cell_type": "code",
   "execution_count": 21,
   "id": "042f5acf",
   "metadata": {},
   "outputs": [
    {
     "data": {
      "text/plain": [
       "1      0.161417\n",
       "2      0.059055\n",
       "5      0.011811\n",
       "6      0.480315\n",
       "7      0.381890\n",
       "         ...   \n",
       "353    0.771654\n",
       "356    0.811024\n",
       "357    0.208661\n",
       "360    0.129921\n",
       "361    0.161417\n",
       "Name: PRCP, Length: 150, dtype: float64"
      ]
     },
     "execution_count": 21,
     "metadata": {},
     "output_type": "execute_result"
    }
   ],
   "source": [
    "inches[rainy] # pick only rainy days"
   ]
  },
  {
   "cell_type": "code",
   "execution_count": 22,
   "id": "2b69fc4d",
   "metadata": {},
   "outputs": [],
   "source": [
    "# Construct a mask of all summer days (June 21st is the 172nd days)\n",
    "summer = (np.arange(365)-172 < 90)&(np.arange(365)-172 >0)"
   ]
  },
  {
   "cell_type": "code",
   "execution_count": 23,
   "id": "e867cb4f",
   "metadata": {},
   "outputs": [
    {
     "data": {
      "text/plain": [
       "array([False, False, False, False, False, False, False, False, False,\n",
       "       False, False, False, False, False, False, False, False, False,\n",
       "       False, False, False, False, False, False, False, False, False,\n",
       "       False, False, False, False, False, False, False, False, False,\n",
       "       False, False, False, False, False, False, False, False, False,\n",
       "       False, False, False, False, False, False, False, False, False,\n",
       "       False, False, False, False, False, False, False, False, False,\n",
       "       False, False, False, False, False, False, False, False, False,\n",
       "       False, False, False, False, False, False, False, False, False,\n",
       "       False, False, False, False, False, False, False, False, False,\n",
       "       False, False, False, False, False, False, False, False, False,\n",
       "       False, False, False, False, False, False, False, False, False,\n",
       "       False, False, False, False, False, False, False, False, False,\n",
       "       False, False, False, False, False, False, False, False, False,\n",
       "       False, False, False, False, False, False, False, False, False,\n",
       "       False, False, False, False, False, False, False, False, False,\n",
       "       False, False, False, False, False, False, False, False, False,\n",
       "       False, False, False, False, False, False, False, False, False,\n",
       "       False, False, False, False, False, False, False, False, False,\n",
       "       False, False,  True,  True,  True,  True,  True,  True,  True,\n",
       "        True,  True,  True,  True,  True,  True,  True,  True,  True,\n",
       "        True,  True,  True,  True,  True,  True,  True,  True,  True,\n",
       "        True,  True,  True,  True,  True,  True,  True,  True,  True,\n",
       "        True,  True,  True,  True,  True,  True,  True,  True,  True,\n",
       "        True,  True,  True,  True,  True,  True,  True,  True,  True,\n",
       "        True,  True,  True,  True,  True,  True,  True,  True,  True,\n",
       "        True,  True,  True,  True,  True,  True,  True,  True,  True,\n",
       "        True,  True,  True,  True,  True,  True,  True,  True,  True,\n",
       "        True,  True,  True,  True,  True,  True,  True,  True,  True,\n",
       "        True, False, False, False, False, False, False, False, False,\n",
       "       False, False, False, False, False, False, False, False, False,\n",
       "       False, False, False, False, False, False, False, False, False,\n",
       "       False, False, False, False, False, False, False, False, False,\n",
       "       False, False, False, False, False, False, False, False, False,\n",
       "       False, False, False, False, False, False, False, False, False,\n",
       "       False, False, False, False, False, False, False, False, False,\n",
       "       False, False, False, False, False, False, False, False, False,\n",
       "       False, False, False, False, False, False, False, False, False,\n",
       "       False, False, False, False, False, False, False, False, False,\n",
       "       False, False, False, False, False, False, False, False, False,\n",
       "       False, False, False, False, False])"
      ]
     },
     "execution_count": 23,
     "metadata": {},
     "output_type": "execute_result"
    }
   ],
   "source": [
    "summer"
   ]
  },
  {
   "cell_type": "code",
   "execution_count": 24,
   "id": "447df60d",
   "metadata": {},
   "outputs": [
    {
     "data": {
      "text/plain": [
       "1      0.161417\n",
       "2      0.059055\n",
       "5      0.011811\n",
       "6      0.480315\n",
       "7      0.381890\n",
       "         ...   \n",
       "353    0.771654\n",
       "356    0.811024\n",
       "357    0.208661\n",
       "360    0.129921\n",
       "361    0.161417\n",
       "Name: PRCP, Length: 150, dtype: float64"
      ]
     },
     "execution_count": 24,
     "metadata": {},
     "output_type": "execute_result"
    }
   ],
   "source": [
    "# median of all the rainy days\n",
    "inches[rainy]"
   ]
  },
  {
   "cell_type": "code",
   "execution_count": 25,
   "id": "9c764a38",
   "metadata": {},
   "outputs": [
    {
     "data": {
      "text/plain": [
       "0.19488188976377951"
      ]
     },
     "execution_count": 25,
     "metadata": {},
     "output_type": "execute_result"
    }
   ],
   "source": [
    "np.median(inches[rainy])"
   ]
  },
  {
   "cell_type": "raw",
   "id": "4da198f8",
   "metadata": {},
   "source": [
    "Median of the rainfall during the summer. "
   ]
  },
  {
   "cell_type": "code",
   "execution_count": 26,
   "id": "ad3d26f4",
   "metadata": {},
   "outputs": [
    {
     "data": {
      "text/plain": [
       "89"
      ]
     },
     "execution_count": 26,
     "metadata": {},
     "output_type": "execute_result"
    }
   ],
   "source": [
    "np.sum(summer)"
   ]
  },
  {
   "cell_type": "code",
   "execution_count": 27,
   "id": "161e05d0",
   "metadata": {},
   "outputs": [
    {
     "data": {
      "text/plain": [
       "0.0"
      ]
     },
     "execution_count": 27,
     "metadata": {},
     "output_type": "execute_result"
    }
   ],
   "source": [
    "np.median(inches[summer])"
   ]
  },
  {
   "cell_type": "code",
   "execution_count": 28,
   "id": "5f8b109f",
   "metadata": {},
   "outputs": [
    {
     "data": {
      "text/plain": [
       "173    0.000000\n",
       "174    0.000000\n",
       "175    0.000000\n",
       "176    0.000000\n",
       "177    0.070866\n",
       "         ...   \n",
       "257    0.000000\n",
       "258    0.000000\n",
       "259    0.019685\n",
       "260    0.011811\n",
       "261    0.000000\n",
       "Name: PRCP, Length: 89, dtype: float64"
      ]
     },
     "execution_count": 28,
     "metadata": {},
     "output_type": "execute_result"
    }
   ],
   "source": [
    "inches[summer]"
   ]
  },
  {
   "cell_type": "code",
   "execution_count": 29,
   "id": "1c9d63cd",
   "metadata": {},
   "outputs": [
    {
     "data": {
      "text/plain": [
       "array([0.        , 0.        , 0.        , 0.        , 0.        ,\n",
       "       0.        , 0.        , 0.        , 0.        , 0.        ,\n",
       "       0.        , 0.        , 0.        , 0.        , 0.        ,\n",
       "       0.        , 0.        , 0.        , 0.        , 0.        ,\n",
       "       0.        , 0.        , 0.        , 0.        , 0.        ,\n",
       "       0.        , 0.        , 0.        , 0.        , 0.        ,\n",
       "       0.        , 0.        , 0.        , 0.        , 0.        ,\n",
       "       0.        , 0.        , 0.        , 0.        , 0.        ,\n",
       "       0.        , 0.        , 0.        , 0.        , 0.        ,\n",
       "       0.        , 0.        , 0.        , 0.        , 0.        ,\n",
       "       0.        , 0.        , 0.        , 0.        , 0.        ,\n",
       "       0.        , 0.        , 0.        , 0.        , 0.        ,\n",
       "       0.        , 0.        , 0.        , 0.        , 0.        ,\n",
       "       0.        , 0.        , 0.        , 0.        , 0.        ,\n",
       "       0.        , 0.        , 0.        , 0.        , 0.        ,\n",
       "       0.01181102, 0.01181102, 0.01968504, 0.01968504, 0.01968504,\n",
       "       0.03937008, 0.0511811 , 0.07086614, 0.09055118, 0.11811024,\n",
       "       0.33070866, 0.5       , 0.75984252, 0.8503937 ])"
      ]
     },
     "execution_count": 29,
     "metadata": {},
     "output_type": "execute_result"
    }
   ],
   "source": [
    "np.sort(inches[summer])"
   ]
  },
  {
   "cell_type": "code",
   "execution_count": 30,
   "id": "8c2ec703",
   "metadata": {},
   "outputs": [
    {
     "data": {
      "text/plain": [
       "0.03251349199327612"
      ]
     },
     "execution_count": 30,
     "metadata": {},
     "output_type": "execute_result"
    }
   ],
   "source": [
    "np.mean(inches[summer]) # mean of rainfall in summer"
   ]
  },
  {
   "cell_type": "code",
   "execution_count": 31,
   "id": "bbe26224",
   "metadata": {},
   "outputs": [
    {
     "data": {
      "text/plain": [
       "0.8503937007874016"
      ]
     },
     "execution_count": 31,
     "metadata": {},
     "output_type": "execute_result"
    }
   ],
   "source": [
    "np.max(inches[summer])"
   ]
  },
  {
   "cell_type": "code",
   "execution_count": 32,
   "id": "8b9a3a91",
   "metadata": {},
   "outputs": [
    {
     "data": {
      "text/plain": [
       "0.0"
      ]
     },
     "execution_count": 32,
     "metadata": {},
     "output_type": "execute_result"
    }
   ],
   "source": [
    "np.min(inches[summer])"
   ]
  },
  {
   "cell_type": "code",
   "execution_count": 33,
   "id": "20914bdf",
   "metadata": {},
   "outputs": [],
   "source": [
    "# Median rainfall non summer days "
   ]
  },
  {
   "cell_type": "code",
   "execution_count": 34,
   "id": "86e73bc3",
   "metadata": {},
   "outputs": [
    {
     "data": {
      "text/plain": [
       "array([ True,  True,  True,  True,  True,  True,  True,  True,  True,\n",
       "        True,  True,  True,  True,  True,  True,  True,  True,  True,\n",
       "        True,  True,  True,  True,  True,  True,  True,  True,  True,\n",
       "        True,  True,  True,  True,  True,  True,  True,  True,  True,\n",
       "        True,  True,  True,  True,  True,  True,  True,  True,  True,\n",
       "        True,  True,  True,  True,  True,  True,  True,  True,  True,\n",
       "        True,  True,  True,  True,  True,  True,  True,  True,  True,\n",
       "        True,  True,  True,  True,  True,  True,  True,  True,  True,\n",
       "        True,  True,  True,  True,  True,  True,  True,  True,  True,\n",
       "        True,  True,  True,  True,  True,  True,  True,  True,  True,\n",
       "        True,  True,  True,  True,  True,  True,  True,  True,  True,\n",
       "        True,  True,  True,  True,  True,  True,  True,  True,  True,\n",
       "        True,  True,  True,  True,  True,  True,  True,  True,  True,\n",
       "        True,  True,  True,  True,  True,  True,  True,  True,  True,\n",
       "        True,  True,  True,  True,  True,  True,  True,  True,  True,\n",
       "        True,  True,  True,  True,  True,  True,  True,  True,  True,\n",
       "        True,  True,  True,  True,  True,  True,  True,  True,  True,\n",
       "        True,  True,  True,  True,  True,  True,  True,  True,  True,\n",
       "        True,  True,  True,  True,  True,  True,  True,  True,  True,\n",
       "        True,  True, False, False, False, False, False, False, False,\n",
       "       False, False, False, False, False, False, False, False, False,\n",
       "       False, False, False, False, False, False, False, False, False,\n",
       "       False, False, False, False, False, False, False, False, False,\n",
       "       False, False, False, False, False, False, False, False, False,\n",
       "       False, False, False, False, False, False, False, False, False,\n",
       "       False, False, False, False, False, False, False, False, False,\n",
       "       False, False, False, False, False, False, False, False, False,\n",
       "       False, False, False, False, False, False, False, False, False,\n",
       "       False, False, False, False, False, False, False, False, False,\n",
       "       False,  True,  True,  True,  True,  True,  True,  True,  True,\n",
       "        True,  True,  True,  True,  True,  True,  True,  True,  True,\n",
       "        True,  True,  True,  True,  True,  True,  True,  True,  True,\n",
       "        True,  True,  True,  True,  True,  True,  True,  True,  True,\n",
       "        True,  True,  True,  True,  True,  True,  True,  True,  True,\n",
       "        True,  True,  True,  True,  True,  True,  True,  True,  True,\n",
       "        True,  True,  True,  True,  True,  True,  True,  True,  True,\n",
       "        True,  True,  True,  True,  True,  True,  True,  True,  True,\n",
       "        True,  True,  True,  True,  True,  True,  True,  True,  True,\n",
       "        True,  True,  True,  True,  True,  True,  True,  True,  True,\n",
       "        True,  True,  True,  True,  True,  True,  True,  True,  True,\n",
       "        True,  True,  True,  True,  True])"
      ]
     },
     "execution_count": 34,
     "metadata": {},
     "output_type": "execute_result"
    }
   ],
   "source": [
    "~ summer"
   ]
  },
  {
   "cell_type": "code",
   "execution_count": 35,
   "id": "52059b9a",
   "metadata": {},
   "outputs": [
    {
     "data": {
      "text/plain": [
       "0.0"
      ]
     },
     "execution_count": 35,
     "metadata": {},
     "output_type": "execute_result"
    }
   ],
   "source": [
    "np.median(inches[~summer])"
   ]
  },
  {
   "cell_type": "code",
   "execution_count": 36,
   "id": "12d19094",
   "metadata": {},
   "outputs": [
    {
     "data": {
      "text/plain": [
       "array([0.        , 0.        , 0.        , 0.        , 0.        ,\n",
       "       0.        , 0.        , 0.        , 0.        , 0.        ,\n",
       "       0.        , 0.        , 0.        , 0.        , 0.        ,\n",
       "       0.        , 0.        , 0.        , 0.        , 0.        ,\n",
       "       0.        , 0.        , 0.        , 0.        , 0.        ,\n",
       "       0.        , 0.        , 0.        , 0.        , 0.        ,\n",
       "       0.        , 0.        , 0.        , 0.        , 0.        ,\n",
       "       0.        , 0.        , 0.        , 0.        , 0.        ,\n",
       "       0.        , 0.        , 0.        , 0.        , 0.        ,\n",
       "       0.        , 0.        , 0.        , 0.        , 0.        ,\n",
       "       0.        , 0.        , 0.        , 0.        , 0.        ,\n",
       "       0.        , 0.        , 0.        , 0.        , 0.        ,\n",
       "       0.        , 0.        , 0.        , 0.        , 0.        ,\n",
       "       0.        , 0.        , 0.        , 0.        , 0.        ,\n",
       "       0.        , 0.        , 0.        , 0.        , 0.        ,\n",
       "       0.        , 0.        , 0.        , 0.        , 0.        ,\n",
       "       0.        , 0.        , 0.        , 0.        , 0.        ,\n",
       "       0.        , 0.        , 0.        , 0.        , 0.        ,\n",
       "       0.        , 0.        , 0.        , 0.        , 0.        ,\n",
       "       0.        , 0.        , 0.        , 0.        , 0.        ,\n",
       "       0.        , 0.        , 0.        , 0.        , 0.        ,\n",
       "       0.        , 0.        , 0.        , 0.        , 0.        ,\n",
       "       0.        , 0.        , 0.        , 0.        , 0.        ,\n",
       "       0.        , 0.        , 0.        , 0.        , 0.        ,\n",
       "       0.        , 0.        , 0.        , 0.        , 0.        ,\n",
       "       0.        , 0.        , 0.        , 0.        , 0.        ,\n",
       "       0.        , 0.        , 0.        , 0.        , 0.        ,\n",
       "       0.        , 0.        , 0.        , 0.        , 0.        ,\n",
       "       0.01181102, 0.01181102, 0.01181102, 0.01181102, 0.01181102,\n",
       "       0.01181102, 0.01181102, 0.01181102, 0.01968504, 0.01968504,\n",
       "       0.01968504, 0.01968504, 0.01968504, 0.01968504, 0.01968504,\n",
       "       0.01968504, 0.01968504, 0.01968504, 0.03149606, 0.03149606,\n",
       "       0.03149606, 0.03149606, 0.03937008, 0.03937008, 0.0511811 ,\n",
       "       0.0511811 , 0.05905512, 0.05905512, 0.05905512, 0.07086614,\n",
       "       0.07086614, 0.07086614, 0.07874016, 0.07874016, 0.09055118,\n",
       "       0.0984252 , 0.0984252 , 0.11023622, 0.11023622, 0.11811024,\n",
       "       0.11811024, 0.11811024, 0.11811024, 0.12992126, 0.12992126,\n",
       "       0.12992126, 0.12992126, 0.14173228, 0.14173228, 0.14173228,\n",
       "       0.14173228, 0.1496063 , 0.16141732, 0.16141732, 0.16141732,\n",
       "       0.16141732, 0.16141732, 0.16141732, 0.16929134, 0.16929134,\n",
       "       0.16929134, 0.18110236, 0.18110236, 0.18110236, 0.18897638,\n",
       "       0.2007874 , 0.2007874 , 0.2007874 , 0.2007874 , 0.20866142,\n",
       "       0.22047244, 0.22834646, 0.24015748, 0.24015748, 0.2519685 ,\n",
       "       0.27165354, 0.27165354, 0.27165354, 0.27952756, 0.29133858,\n",
       "       0.29133858, 0.2992126 , 0.31889764, 0.33858268, 0.3503937 ,\n",
       "       0.3503937 , 0.3503937 , 0.35826772, 0.37007874, 0.37007874,\n",
       "       0.38188976, 0.38976378, 0.42125984, 0.42913386, 0.42913386,\n",
       "       0.46062992, 0.46062992, 0.46850394, 0.48031496, 0.48818898,\n",
       "       0.5       , 0.51181102, 0.51181102, 0.51181102, 0.53937008,\n",
       "       0.53937008, 0.5511811 , 0.55905512, 0.57086614, 0.59055118,\n",
       "       0.5984252 , 0.5984252 , 0.62992126, 0.6496063 , 0.66929134,\n",
       "       0.66929134, 0.72047244, 0.72047244, 0.72047244, 0.72834646,\n",
       "       0.74015748, 0.7519685 , 0.77165354, 0.7992126 , 0.81102362,\n",
       "       0.83858268, 0.8503937 , 0.87007874, 1.        , 1.03937008,\n",
       "       1.09055118, 1.25984252, 1.27165354, 1.31102362, 1.3503937 ,\n",
       "       1.83858268])"
      ]
     },
     "execution_count": 36,
     "metadata": {},
     "output_type": "execute_result"
    }
   ],
   "source": [
    "np.sort(inches[~summer])"
   ]
  },
  {
   "cell_type": "code",
   "execution_count": 37,
   "id": "dcb3cc79",
   "metadata": {},
   "outputs": [
    {
     "data": {
      "text/plain": [
       "0.20078740157480315"
      ]
     },
     "execution_count": 37,
     "metadata": {},
     "output_type": "execute_result"
    }
   ],
   "source": [
    "# Median of non  summer days with rain\n",
    "np.median(inches[~summer & rainy])"
   ]
  },
  {
   "cell_type": "code",
   "execution_count": 38,
   "id": "f6132246",
   "metadata": {},
   "outputs": [
    {
     "data": {
      "text/plain": [
       "1      0.161417\n",
       "2      0.059055\n",
       "5      0.011811\n",
       "6      0.480315\n",
       "7      0.381890\n",
       "         ...   \n",
       "353    0.771654\n",
       "356    0.811024\n",
       "357    0.208661\n",
       "360    0.129921\n",
       "361    0.161417\n",
       "Name: PRCP, Length: 136, dtype: float64"
      ]
     },
     "execution_count": 38,
     "metadata": {},
     "output_type": "execute_result"
    }
   ],
   "source": [
    "inches[~summer & rainy]"
   ]
  },
  {
   "cell_type": "code",
   "execution_count": 39,
   "id": "53b307df",
   "metadata": {},
   "outputs": [
    {
     "data": {
      "text/plain": [
       "0.3356009726725336"
      ]
     },
     "execution_count": 39,
     "metadata": {},
     "output_type": "execute_result"
    }
   ],
   "source": [
    "np.mean(inches[~summer & rainy])"
   ]
  }
 ],
 "metadata": {
  "kernelspec": {
   "display_name": "Python 3",
   "language": "python",
   "name": "python3"
  },
  "language_info": {
   "codemirror_mode": {
    "name": "ipython",
    "version": 3
   },
   "file_extension": ".py",
   "mimetype": "text/x-python",
   "name": "python",
   "nbconvert_exporter": "python",
   "pygments_lexer": "ipython3",
   "version": "3.8.8"
  }
 },
 "nbformat": 4,
 "nbformat_minor": 5
}
